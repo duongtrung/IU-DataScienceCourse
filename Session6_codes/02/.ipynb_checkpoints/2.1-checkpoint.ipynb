{
 "cells": [
  {
   "cell_type": "markdown",
   "metadata": {},
   "source": [
    "## Neural Networks\n",
    "\n",
    "* what most people think about when they think about AI\n",
    "* very hyped\n",
    "* very powerful\n",
    "* very easy to execute\n",
    "* both supervised and unsupervised learning algorithm\n",
    "* Cluster unlabelled data according to similarities among the inputs\n",
    "* Classification and regression on a labeled dataset \n",
    "* Modeled loosely after the human brain, that are designed to recognize patterns\n",
    "* Supervised learning: detect faces, detect objects in images, customer churn prediction etc\n",
    "* Unsupervised learning: clustering documents, images etc.\n",
    "\n"
   ]
  },
  {
   "cell_type": "code",
   "execution_count": null,
   "metadata": {
    "collapsed": true
   },
   "outputs": [],
   "source": []
  }
 ],
 "metadata": {
  "kernelspec": {
   "display_name": "Python 3",
   "language": "python",
   "name": "python3"
  },
  "language_info": {
   "codemirror_mode": {
    "name": "ipython",
    "version": 3
   },
   "file_extension": ".py",
   "mimetype": "text/x-python",
   "name": "python",
   "nbconvert_exporter": "python",
   "pygments_lexer": "ipython3",
   "version": "3.7.3"
  }
 },
 "nbformat": 4,
 "nbformat_minor": 2
}
